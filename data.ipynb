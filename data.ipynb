{
 "cells": [
  {
   "cell_type": "code",
   "execution_count": 2,
   "metadata": {},
   "outputs": [],
   "source": [
    "import string\n",
    "import random\n",
    "import csv"
   ]
  },
  {
   "cell_type": "code",
   "execution_count": 3,
   "metadata": {},
   "outputs": [],
   "source": [
    "#strong password"
   ]
  },
  {
   "cell_type": "code",
   "execution_count": 4,
   "metadata": {},
   "outputs": [],
   "source": [
    "def password_generator(size=random.choice(range(7,14)), chars=string.printable[0:91]):\n",
    "    return ''.join(random.choice(chars) for i in range(size))\n",
    "arr=[]\n",
    "for j in range(0,500000):\n",
    "        arr.append([1,password_generator()])\n",
    "with open('strong_passwords.csv','w') as csvfile:\n",
    "    writer= csv.writer(csvfile,lineterminator='\\n')\n",
    "    for item in arr:\n",
    "        writer.writerow([item[0],item[1]])"
   ]
  },
  {
   "cell_type": "code",
   "execution_count": 6,
   "metadata": {},
   "outputs": [],
   "source": [
    "#leet password"
   ]
  },
  {
   "cell_type": "code",
   "execution_count": 5,
   "metadata": {},
   "outputs": [],
   "source": [
    "leetDict = {\n",
    "  'a': ['a', 'A', '@', '4'],\n",
    "  'b': ['b', 'B', 'I3', 'l3', 'i3'],\n",
    "  'c': ['c', 'C', '(', 'k', 'K'],\n",
    "  'd': ['d', 'D'],\n",
    "  'e': ['e', 'E', '3'],\n",
    "  'f': ['f', 'F', 'ph', 'pH', 'Ph', 'PH'],\n",
    "  'g': ['g', 'G', '6'],\n",
    "  'h': ['h', 'H', '#'],\n",
    "  'i': ['i', 'I', 'l', '!', '1'],\n",
    "  'j': ['j', 'J'],\n",
    "  'k': ['k', 'K', '(', 'c', 'C'],\n",
    "  'l': ['l', 'L', '1', '!', 'i'],\n",
    "  'm': ['m', 'M'],\n",
    "  'n': ['n', 'N'],\n",
    "  'o': ['o', 'O', '0'],\n",
    "  'p': ['p', 'P'],\n",
    "  'q': ['q', 'Q', '9'],\n",
    "  'r': ['r', 'R'],\n",
    "  's': ['s', 'S', '$', '5'],\n",
    "  't': ['t', 'T', '7', '+'],\n",
    "  'u': ['u', 'U', 'v', 'V'],\n",
    "  'v': ['v', 'V', 'u', 'U'],\n",
    "  'w': ['w', 'W', 'vv', 'VV'],\n",
    "  'x': ['x', 'X'],\n",
    "  'y': ['y', 'Y'],\n",
    "  'z': ['z', 'Z', '2'],\n",
    "  'other':[]    \n",
    "}\n",
    "\n",
    "def permute(dictWord):\n",
    "  if len(dictWord) > 0:\n",
    "    currentLetter = dictWord[0]\n",
    "    if not currentLetter.isalpha():\n",
    "        leetDict['other']=currentLetter\n",
    "        currentLetter='other'\n",
    "    if currentLetter.isupper():\n",
    "        currentLetter=currentLetter.swapcase()\n",
    "    restOfWord = dictWord[1:]\n",
    "    if len(restOfWord) > 0:\n",
    "         perms = [s + p for s in leetDict[currentLetter] for p in permute(restOfWord)]\n",
    "    else:\n",
    "        perms = leetDict[currentLetter]       \n",
    "    return perms"
   ]
  },
  {
   "cell_type": "code",
   "execution_count": 6,
   "metadata": {},
   "outputs": [],
   "source": [
    "def password_leet_generator(arr):\n",
    "    return random.choice(arr)\n",
    "with open ('M:\\\\project_security_password\\\\project\\\\password\\\\10-million-password-list-top-10000.csv',newline='') as csvf:\n",
    "    arr=list(csv.reader(csvf))\n",
    "arr_leet=[] \n",
    "for i in arr:\n",
    "    arr_i=permute(i[0])\n",
    "    for j in range(0,10):\n",
    "        arr_leet.append([0,password_leet_generator(arr_i)])\n",
    "random.shuffle(arr_leet)\n",
    "with open('leet_passwords.csv','w') as csvfile:\n",
    "    writer= csv.writer(csvfile,lineterminator='\\n')\n",
    "    for item in arr_leet:\n",
    "        writer.writerow([item[0],item[1]])"
   ]
  },
  {
   "cell_type": "code",
   "execution_count": null,
   "metadata": {},
   "outputs": [],
   "source": [
    "#common password"
   ]
  },
  {
   "cell_type": "code",
   "execution_count": 7,
   "metadata": {},
   "outputs": [],
   "source": [
    "with open ('M:\\\\project_security_password\\\\project\\\\password\\\\10-million-password-list-top-100000.csv',newline='') as csvf:\n",
    "    arr=list(csv.reader(csvf))\n",
    "with open('common_passwords.csv','w') as csvfile:\n",
    "    writer= csv.writer(csvfile,lineterminator='\\n')\n",
    "    for item in arr:\n",
    "        writer.writerow([0,str(item[0])])"
   ]
  },
  {
   "cell_type": "code",
   "execution_count": 26,
   "metadata": {},
   "outputs": [],
   "source": [
    "#qwerty passwors"
   ]
  },
  {
   "cell_type": "code",
   "execution_count": 8,
   "metadata": {},
   "outputs": [],
   "source": [
    "with open ('M:\\project_security_password\\project\\password\\Keyboard-Combinations.csv',newline='') as csvf:\n",
    "    arr_all=list(csv.reader(csvf))\n",
    "for i in range(len(arr_all)):\n",
    "    arr_all[i]=','.join(arr_all[i])\n",
    "random.shuffle(arr_all)\n",
    "with open('qwerty_passwords.csv','w') as csvfile:\n",
    "    writer= csv.writer(csvfile,lineterminator='\\n')\n",
    "    for item in arr_all:\n",
    "        writer.writerow([0,item])"
   ]
  },
  {
   "cell_type": "code",
   "execution_count": 27,
   "metadata": {},
   "outputs": [],
   "source": [
    "#all password"
   ]
  },
  {
   "cell_type": "code",
   "execution_count": 9,
   "metadata": {},
   "outputs": [],
   "source": [
    "with open ('common_passwords.csv',newline='') as csvf:\n",
    "    arr_all=list(csv.reader(csvf))\n",
    "with open ('leet_passwords.csv',newline='') as csvf:\n",
    "    arr_all+=list(csv.reader(csvf))\n",
    "with open ('qwerty_passwords.csv',newline='') as csvf:\n",
    "    arr_all+=list(csv.reader(csvf))\n",
    "with open ('strong_passwords.csv',newline='') as csvf:\n",
    "    arr_all+=list(csv.reader(csvf))  \n",
    "random.shuffle(arr_all)\n",
    "arr_all[0]=['strength','password']\n",
    "with open('all_passwords.csv','w') as csvfile:\n",
    "    writer= csv.writer(csvfile,lineterminator='\\n')\n",
    "    for item in arr_all:\n",
    "        writer.writerow([item[0],item[1]])"
   ]
  },
  {
   "cell_type": "code",
   "execution_count": null,
   "metadata": {},
   "outputs": [],
   "source": []
  }
 ],
 "metadata": {
  "kernelspec": {
   "display_name": "Python 3",
   "language": "python",
   "name": "python3"
  },
  "language_info": {
   "codemirror_mode": {
    "name": "ipython",
    "version": 3
   },
   "file_extension": ".py",
   "mimetype": "text/x-python",
   "name": "python",
   "nbconvert_exporter": "python",
   "pygments_lexer": "ipython3",
   "version": "3.7.0"
  }
 },
 "nbformat": 4,
 "nbformat_minor": 2
}
